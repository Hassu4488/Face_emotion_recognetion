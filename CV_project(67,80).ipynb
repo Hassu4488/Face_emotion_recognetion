{
  "cells": [
    {
      "cell_type": "code",
      "execution_count": null,
      "metadata": {
        "colab": {
          "background_save": true,
          "base_uri": "https://localhost:8080/"
        },
        "id": "GfLo2Hs4ZD84",
        "outputId": "7e5ae7a9-d5af-4843-f327-dee718c84723"
      },
      "outputs": [
        {
          "name": "stdout",
          "output_type": "stream",
          "text": [
            "origin.7z.001  origin.7z.003  origin.7z.005  origin.7z.007\n",
            "origin.7z.002  origin.7z.004  origin.7z.006  origin.7z.008\n"
          ]
        }
      ],
      "source": [
        "!ls /content/drive/MyDrive/CV\\ project/data/image"
      ]
    },
    {
      "cell_type": "code",
      "execution_count": null,
      "metadata": {
        "id": "Outc_YHGZiM0"
      },
      "outputs": [],
      "source": [
        " #!7za -y x \"/content/drive/MyDrive/CV project/data/image/origin.7z.*\""
      ]
    },
    {
      "cell_type": "code",
      "execution_count": null,
      "metadata": {
        "id": "SpfkLdh92AGe"
      },
      "outputs": [],
      "source": [
        " #!cp -r ./origin \"/content/drive/MyDrive/CV project\""
      ]
    },
    {
      "cell_type": "code",
      "execution_count": null,
      "metadata": {
        "colab": {
          "base_uri": "https://localhost:8080/"
        },
        "id": "F2wPIk_EPBLb",
        "outputId": "c6a24d41-3bd9-45ec-a9a3-c6753ac494ce"
      },
      "outputs": [
        {
          "name": "stdout",
          "output_type": "stream",
          "text": [
            "Drive already mounted at /content/drive; to attempt to forcibly remount, call drive.mount(\"/content/drive\", force_remount=True).\n"
          ]
        }
      ],
      "source": [
        "from google.colab import drive\n",
        "\n",
        "# Mount your Google Drive. You will be prompted to authorize access.\n",
        "drive.mount('/content/drive')\n"
      ]
    },
    {
      "cell_type": "code",
      "execution_count": null,
      "metadata": {
        "id": "Psq0TyiEYwaz"
      },
      "outputs": [],
      "source": [
        "label_file_path=r\"/content/drive/MyDrive/CV project/data/label/label.lst\"\n",
        "images_folder_path=r\"/content/drive/MyDrive/CV project/data/image\""
      ]
    },
    {
      "cell_type": "code",
      "execution_count": null,
      "metadata": {
        "colab": {
          "base_uri": "https://localhost:8080/",
          "height": 488
        },
        "id": "Lbp5oa-yY5kk",
        "outputId": "46458f09-c33f-4bbd-8f31-7d72c97f9250"
      },
      "outputs": [
        {
          "data": {
            "text/html": [
              "\n",
              "\n",
              "  <div id=\"df-eea4d885-79b2-4147-b147-7c0f1c22e06f\">\n",
              "    <div class=\"colab-df-container\">\n",
              "      <div>\n",
              "<style scoped>\n",
              "    .dataframe tbody tr th:only-of-type {\n",
              "        vertical-align: middle;\n",
              "    }\n",
              "\n",
              "    .dataframe tbody tr th {\n",
              "        vertical-align: top;\n",
              "    }\n",
              "\n",
              "    .dataframe thead th {\n",
              "        text-align: right;\n",
              "    }\n",
              "</style>\n",
              "<table border=\"1\" class=\"dataframe\">\n",
              "  <thead>\n",
              "    <tr style=\"text-align: right;\">\n",
              "      <th></th>\n",
              "      <th>image_name</th>\n",
              "      <th>face_id_in_image</th>\n",
              "      <th>face_box_top</th>\n",
              "      <th>face_box_left</th>\n",
              "      <th>face_box_right</th>\n",
              "      <th>face_box_bottom</th>\n",
              "      <th>face_box_confidence</th>\n",
              "      <th>expression_label</th>\n",
              "    </tr>\n",
              "  </thead>\n",
              "  <tbody>\n",
              "    <tr>\n",
              "      <th>0</th>\n",
              "      <td>angry_actor_104.jpg</td>\n",
              "      <td>0</td>\n",
              "      <td>28</td>\n",
              "      <td>113</td>\n",
              "      <td>226</td>\n",
              "      <td>141</td>\n",
              "      <td>22.9362</td>\n",
              "      <td>0</td>\n",
              "    </tr>\n",
              "    <tr>\n",
              "      <th>1</th>\n",
              "      <td>angry_actor_109.jpg</td>\n",
              "      <td>0</td>\n",
              "      <td>31</td>\n",
              "      <td>157</td>\n",
              "      <td>345</td>\n",
              "      <td>219</td>\n",
              "      <td>50.3056</td>\n",
              "      <td>0</td>\n",
              "    </tr>\n",
              "    <tr>\n",
              "      <th>2</th>\n",
              "      <td>angry_actor_120.jpg</td>\n",
              "      <td>1</td>\n",
              "      <td>53</td>\n",
              "      <td>53</td>\n",
              "      <td>372</td>\n",
              "      <td>372</td>\n",
              "      <td>13.9434</td>\n",
              "      <td>2</td>\n",
              "    </tr>\n",
              "    <tr>\n",
              "      <th>3</th>\n",
              "      <td>angry_actor_13.jpg</td>\n",
              "      <td>0</td>\n",
              "      <td>77</td>\n",
              "      <td>51</td>\n",
              "      <td>362</td>\n",
              "      <td>388</td>\n",
              "      <td>85.8104</td>\n",
              "      <td>3</td>\n",
              "    </tr>\n",
              "    <tr>\n",
              "      <th>4</th>\n",
              "      <td>angry_actor_132.jpg</td>\n",
              "      <td>0</td>\n",
              "      <td>95</td>\n",
              "      <td>31</td>\n",
              "      <td>412</td>\n",
              "      <td>476</td>\n",
              "      <td>82.3948</td>\n",
              "      <td>0</td>\n",
              "    </tr>\n",
              "    <tr>\n",
              "      <th>...</th>\n",
              "      <td>...</td>\n",
              "      <td>...</td>\n",
              "      <td>...</td>\n",
              "      <td>...</td>\n",
              "      <td>...</td>\n",
              "      <td>...</td>\n",
              "      <td>...</td>\n",
              "      <td>...</td>\n",
              "    </tr>\n",
              "    <tr>\n",
              "      <th>91788</th>\n",
              "      <td>surprised_expression_546.jpg</td>\n",
              "      <td>0</td>\n",
              "      <td>70</td>\n",
              "      <td>70</td>\n",
              "      <td>351</td>\n",
              "      <td>351</td>\n",
              "      <td>37.7117</td>\n",
              "      <td>5</td>\n",
              "    </tr>\n",
              "    <tr>\n",
              "      <th>91789</th>\n",
              "      <td>surprised_expression_381.jpg</td>\n",
              "      <td>0</td>\n",
              "      <td>51</td>\n",
              "      <td>61</td>\n",
              "      <td>117</td>\n",
              "      <td>107</td>\n",
              "      <td>91.6307</td>\n",
              "      <td>5</td>\n",
              "    </tr>\n",
              "    <tr>\n",
              "      <th>91790</th>\n",
              "      <td>surprised_expression_395.jpg</td>\n",
              "      <td>0</td>\n",
              "      <td>27</td>\n",
              "      <td>95</td>\n",
              "      <td>258</td>\n",
              "      <td>190</td>\n",
              "      <td>96.2861</td>\n",
              "      <td>5</td>\n",
              "    </tr>\n",
              "    <tr>\n",
              "      <th>91791</th>\n",
              "      <td>ecstatic_asian_31.jpg</td>\n",
              "      <td>0</td>\n",
              "      <td>60</td>\n",
              "      <td>136</td>\n",
              "      <td>184</td>\n",
              "      <td>108</td>\n",
              "      <td>39.9223</td>\n",
              "      <td>3</td>\n",
              "    </tr>\n",
              "    <tr>\n",
              "      <th>91792</th>\n",
              "      <td>surprised_expression_394.jpg</td>\n",
              "      <td>0</td>\n",
              "      <td>47</td>\n",
              "      <td>38</td>\n",
              "      <td>152</td>\n",
              "      <td>161</td>\n",
              "      <td>77.7758</td>\n",
              "      <td>5</td>\n",
              "    </tr>\n",
              "  </tbody>\n",
              "</table>\n",
              "<p>91793 rows × 8 columns</p>\n",
              "</div>\n",
              "      <button class=\"colab-df-convert\" onclick=\"convertToInteractive('df-eea4d885-79b2-4147-b147-7c0f1c22e06f')\"\n",
              "              title=\"Convert this dataframe to an interactive table.\"\n",
              "              style=\"display:none;\">\n",
              "\n",
              "  <svg xmlns=\"http://www.w3.org/2000/svg\" height=\"24px\"viewBox=\"0 0 24 24\"\n",
              "       width=\"24px\">\n",
              "    <path d=\"M0 0h24v24H0V0z\" fill=\"none\"/>\n",
              "    <path d=\"M18.56 5.44l.94 2.06.94-2.06 2.06-.94-2.06-.94-.94-2.06-.94 2.06-2.06.94zm-11 1L8.5 8.5l.94-2.06 2.06-.94-2.06-.94L8.5 2.5l-.94 2.06-2.06.94zm10 10l.94 2.06.94-2.06 2.06-.94-2.06-.94-.94-2.06-.94 2.06-2.06.94z\"/><path d=\"M17.41 7.96l-1.37-1.37c-.4-.4-.92-.59-1.43-.59-.52 0-1.04.2-1.43.59L10.3 9.45l-7.72 7.72c-.78.78-.78 2.05 0 2.83L4 21.41c.39.39.9.59 1.41.59.51 0 1.02-.2 1.41-.59l7.78-7.78 2.81-2.81c.8-.78.8-2.07 0-2.86zM5.41 20L4 18.59l7.72-7.72 1.47 1.35L5.41 20z\"/>\n",
              "  </svg>\n",
              "      </button>\n",
              "\n",
              "\n",
              "\n",
              "    <div id=\"df-b6d8b5c0-079e-4eaa-b244-9f599bd9ce4e\">\n",
              "      <button class=\"colab-df-quickchart\" onclick=\"quickchart('df-b6d8b5c0-079e-4eaa-b244-9f599bd9ce4e')\"\n",
              "              title=\"Suggest charts.\"\n",
              "              style=\"display:none;\">\n",
              "\n",
              "<svg xmlns=\"http://www.w3.org/2000/svg\" height=\"24px\"viewBox=\"0 0 24 24\"\n",
              "     width=\"24px\">\n",
              "    <g>\n",
              "        <path d=\"M19 3H5c-1.1 0-2 .9-2 2v14c0 1.1.9 2 2 2h14c1.1 0 2-.9 2-2V5c0-1.1-.9-2-2-2zM9 17H7v-7h2v7zm4 0h-2V7h2v10zm4 0h-2v-4h2v4z\"/>\n",
              "    </g>\n",
              "</svg>\n",
              "      </button>\n",
              "    </div>\n",
              "\n",
              "<style>\n",
              "  .colab-df-quickchart {\n",
              "    background-color: #E8F0FE;\n",
              "    border: none;\n",
              "    border-radius: 50%;\n",
              "    cursor: pointer;\n",
              "    display: none;\n",
              "    fill: #1967D2;\n",
              "    height: 32px;\n",
              "    padding: 0 0 0 0;\n",
              "    width: 32px;\n",
              "  }\n",
              "\n",
              "  .colab-df-quickchart:hover {\n",
              "    background-color: #E2EBFA;\n",
              "    box-shadow: 0px 1px 2px rgba(60, 64, 67, 0.3), 0px 1px 3px 1px rgba(60, 64, 67, 0.15);\n",
              "    fill: #174EA6;\n",
              "  }\n",
              "\n",
              "  [theme=dark] .colab-df-quickchart {\n",
              "    background-color: #3B4455;\n",
              "    fill: #D2E3FC;\n",
              "  }\n",
              "\n",
              "  [theme=dark] .colab-df-quickchart:hover {\n",
              "    background-color: #434B5C;\n",
              "    box-shadow: 0px 1px 3px 1px rgba(0, 0, 0, 0.15);\n",
              "    filter: drop-shadow(0px 1px 2px rgba(0, 0, 0, 0.3));\n",
              "    fill: #FFFFFF;\n",
              "  }\n",
              "</style>\n",
              "\n",
              "    <script>\n",
              "      async function quickchart(key) {\n",
              "        const containerElement = document.querySelector('#' + key);\n",
              "        const charts = await google.colab.kernel.invokeFunction(\n",
              "            'suggestCharts', [key], {});\n",
              "      }\n",
              "    </script>\n",
              "\n",
              "      <script>\n",
              "\n",
              "function displayQuickchartButton(domScope) {\n",
              "  let quickchartButtonEl =\n",
              "    domScope.querySelector('#df-b6d8b5c0-079e-4eaa-b244-9f599bd9ce4e button.colab-df-quickchart');\n",
              "  quickchartButtonEl.style.display =\n",
              "    google.colab.kernel.accessAllowed ? 'block' : 'none';\n",
              "}\n",
              "\n",
              "        displayQuickchartButton(document);\n",
              "      </script>\n",
              "      <style>\n",
              "    .colab-df-container {\n",
              "      display:flex;\n",
              "      flex-wrap:wrap;\n",
              "      gap: 12px;\n",
              "    }\n",
              "\n",
              "    .colab-df-convert {\n",
              "      background-color: #E8F0FE;\n",
              "      border: none;\n",
              "      border-radius: 50%;\n",
              "      cursor: pointer;\n",
              "      display: none;\n",
              "      fill: #1967D2;\n",
              "      height: 32px;\n",
              "      padding: 0 0 0 0;\n",
              "      width: 32px;\n",
              "    }\n",
              "\n",
              "    .colab-df-convert:hover {\n",
              "      background-color: #E2EBFA;\n",
              "      box-shadow: 0px 1px 2px rgba(60, 64, 67, 0.3), 0px 1px 3px 1px rgba(60, 64, 67, 0.15);\n",
              "      fill: #174EA6;\n",
              "    }\n",
              "\n",
              "    [theme=dark] .colab-df-convert {\n",
              "      background-color: #3B4455;\n",
              "      fill: #D2E3FC;\n",
              "    }\n",
              "\n",
              "    [theme=dark] .colab-df-convert:hover {\n",
              "      background-color: #434B5C;\n",
              "      box-shadow: 0px 1px 3px 1px rgba(0, 0, 0, 0.15);\n",
              "      filter: drop-shadow(0px 1px 2px rgba(0, 0, 0, 0.3));\n",
              "      fill: #FFFFFF;\n",
              "    }\n",
              "  </style>\n",
              "\n",
              "      <script>\n",
              "        const buttonEl =\n",
              "          document.querySelector('#df-eea4d885-79b2-4147-b147-7c0f1c22e06f button.colab-df-convert');\n",
              "        buttonEl.style.display =\n",
              "          google.colab.kernel.accessAllowed ? 'block' : 'none';\n",
              "\n",
              "        async function convertToInteractive(key) {\n",
              "          const element = document.querySelector('#df-eea4d885-79b2-4147-b147-7c0f1c22e06f');\n",
              "          const dataTable =\n",
              "            await google.colab.kernel.invokeFunction('convertToInteractive',\n",
              "                                                     [key], {});\n",
              "          if (!dataTable) return;\n",
              "\n",
              "          const docLinkHtml = 'Like what you see? Visit the ' +\n",
              "            '<a target=\"_blank\" href=https://colab.research.google.com/notebooks/data_table.ipynb>data table notebook</a>'\n",
              "            + ' to learn more about interactive tables.';\n",
              "          element.innerHTML = '';\n",
              "          dataTable['output_type'] = 'display_data';\n",
              "          await google.colab.output.renderOutput(dataTable, element);\n",
              "          const docLink = document.createElement('div');\n",
              "          docLink.innerHTML = docLinkHtml;\n",
              "          element.appendChild(docLink);\n",
              "        }\n",
              "      </script>\n",
              "    </div>\n",
              "  </div>\n"
            ],
            "text/plain": [
              "                         image_name  face_id_in_image  face_box_top  \\\n",
              "0               angry_actor_104.jpg                 0            28   \n",
              "1               angry_actor_109.jpg                 0            31   \n",
              "2               angry_actor_120.jpg                 1            53   \n",
              "3                angry_actor_13.jpg                 0            77   \n",
              "4               angry_actor_132.jpg                 0            95   \n",
              "...                             ...               ...           ...   \n",
              "91788  surprised_expression_546.jpg                 0            70   \n",
              "91789  surprised_expression_381.jpg                 0            51   \n",
              "91790  surprised_expression_395.jpg                 0            27   \n",
              "91791         ecstatic_asian_31.jpg                 0            60   \n",
              "91792  surprised_expression_394.jpg                 0            47   \n",
              "\n",
              "       face_box_left  face_box_right  face_box_bottom  face_box_confidence  \\\n",
              "0                113             226              141              22.9362   \n",
              "1                157             345              219              50.3056   \n",
              "2                 53             372              372              13.9434   \n",
              "3                 51             362              388              85.8104   \n",
              "4                 31             412              476              82.3948   \n",
              "...              ...             ...              ...                  ...   \n",
              "91788             70             351              351              37.7117   \n",
              "91789             61             117              107              91.6307   \n",
              "91790             95             258              190              96.2861   \n",
              "91791            136             184              108              39.9223   \n",
              "91792             38             152              161              77.7758   \n",
              "\n",
              "       expression_label  \n",
              "0                     0  \n",
              "1                     0  \n",
              "2                     2  \n",
              "3                     3  \n",
              "4                     0  \n",
              "...                 ...  \n",
              "91788                 5  \n",
              "91789                 5  \n",
              "91790                 5  \n",
              "91791                 3  \n",
              "91792                 5  \n",
              "\n",
              "[91793 rows x 8 columns]"
            ]
          },
          "execution_count": 3,
          "metadata": {},
          "output_type": "execute_result"
        }
      ],
      "source": [
        "from numpy import split\n",
        "import pandas as pd\n",
        "df_info = pd.read_csv(label_file_path,sep=\" \",header=None)\n",
        "col_names=\"image_name face_id_in_image face_box_top face_box_left face_box_right face_box_bottom face_box_confidence expression_label\".split()\n",
        "df_info.columns = col_names\n",
        "\n",
        "df_info"
      ]
    },
    {
      "cell_type": "code",
      "execution_count": null,
      "metadata": {
        "id": "g5XlTKkLY_wE"
      },
      "outputs": [],
      "source": [
        "df_sel=df_info[df_info.face_box_confidence > 40]"
      ]
    },
    {
      "cell_type": "code",
      "execution_count": null,
      "metadata": {
        "colab": {
          "base_uri": "https://localhost:8080/"
        },
        "id": "xcb5MicVZGAQ",
        "outputId": "b1fcfacf-e8c3-4e73-8b31-1f6c40d3a087"
      },
      "outputs": [
        {
          "data": {
            "text/plain": [
              "(57931, 8)"
            ]
          },
          "execution_count": 5,
          "metadata": {},
          "output_type": "execute_result"
        }
      ],
      "source": [
        "df_sel.shape"
      ]
    },
    {
      "cell_type": "code",
      "execution_count": null,
      "metadata": {
        "id": "sZNu31MsZKBN"
      },
      "outputs": [],
      "source": [
        "import pandas as pd\n",
        "import numpy as np\n",
        "from sklearn.preprocessing import StandardScaler, MinMaxScaler, OneHotEncoder\n"
      ]
    },
    {
      "cell_type": "code",
      "execution_count": null,
      "metadata": {
        "id": "5ujhNrW0ZPlU"
      },
      "outputs": [],
      "source": [
        "from numpy.core.fromnumeric import resize\n",
        "import cv2\n",
        "import matplotlib.pyplot as plt\n",
        "import os\n",
        "\n",
        "\n",
        "image_directory = '/content/drive/MyDrive/CV project/origin'\n",
        "cropped_directory = '/content/drive/MyDrive/CV project/cropped'\n",
        "\n",
        "\n",
        "x = []\n",
        "y = []\n",
        "for i, row in df_sel.sample(3500).iterrows():\n",
        "    img_name = row[\"image_name\"]\n",
        "    x1 = row[\"face_box_left\"]\n",
        "    x2 = row[\"face_box_right\"]\n",
        "    y1 = row[\"face_box_top\"]\n",
        "    y2 = row[\"face_box_bottom\"]\n",
        "    label = row[\"expression_label\"]\n",
        "    img_path = os.path.join(image_directory, img_name)\n",
        "    img = cv2.imread(img_path)\n",
        "    # Check if img is not None\n",
        "    if img is not None:\n",
        "    #     # Crop the image using the provided coordinates\n",
        "         cropped_img = img[y1:y2, x1:x2]\n",
        "    else:\n",
        "        continue\n",
        "\n",
        "    if cropped_img is not None:\n",
        "      resized_face = cv2.resize(cropped_img , ( 64,64))\n",
        "    else:\n",
        "      continue\n",
        "\n",
        "    x.append(resized_face)\n",
        "    y.append(label)"
      ]
    },
    {
      "cell_type": "code",
      "execution_count": null,
      "metadata": {
        "id": "kkINTNuXZTGm"
      },
      "outputs": [],
      "source": [
        "import numpy as np\n",
        "X=np.array(x)\n",
        "Y=np.array(y)\n"
      ]
    },
    {
      "cell_type": "code",
      "execution_count": null,
      "metadata": {
        "colab": {
          "base_uri": "https://localhost:8080/"
        },
        "id": "85pGeeMBZa7J",
        "outputId": "fa7bfc05-7413-477e-9868-6a42a70e6cac"
      },
      "outputs": [
        {
          "data": {
            "text/plain": [
              "array([[[[138, 127, 117],\n",
              "         [ 81,  73,  65],\n",
              "         [ 65,  61,  55],\n",
              "         ...,\n",
              "         [ 82, 201, 200],\n",
              "         [ 83, 203, 202],\n",
              "         [ 81, 203, 202]],\n",
              "\n",
              "        [[121, 109,  99],\n",
              "         [ 81,  71,  64],\n",
              "         [ 80,  74,  69],\n",
              "         ...,\n",
              "         [ 32, 152, 150],\n",
              "         [ 33, 153, 152],\n",
              "         [ 31, 154, 152]],\n",
              "\n",
              "        [[ 98,  86,  77],\n",
              "         [ 74,  64,  56],\n",
              "         [ 83,  76,  71],\n",
              "         ...,\n",
              "         [ 20, 139, 138],\n",
              "         [ 18, 138, 137],\n",
              "         [ 16, 138, 136]],\n",
              "\n",
              "        ...,\n",
              "\n",
              "        [[168, 177, 187],\n",
              "         [164, 172, 182],\n",
              "         [171, 180, 189],\n",
              "         ...,\n",
              "         [ 82, 167, 149],\n",
              "         [ 81, 173, 154],\n",
              "         [ 82, 180, 160]],\n",
              "\n",
              "        [[161, 170, 181],\n",
              "         [161, 171, 181],\n",
              "         [167, 177, 187],\n",
              "         ...,\n",
              "         [ 88, 165, 148],\n",
              "         [ 87, 171, 152],\n",
              "         [ 85, 178, 157]],\n",
              "\n",
              "        [[168, 176, 189],\n",
              "         [156, 166, 176],\n",
              "         [157, 167, 177],\n",
              "         ...,\n",
              "         [106, 168, 152],\n",
              "         [101, 172, 155],\n",
              "         [ 95, 177, 158]]],\n",
              "\n",
              "\n",
              "       [[[ 37,  10,   6],\n",
              "         [ 30,   7,   7],\n",
              "         [ 20,   5,   7],\n",
              "         ...,\n",
              "         [  1,   7,   7],\n",
              "         [ 14,   2,   4],\n",
              "         [ 21,   2,   3]],\n",
              "\n",
              "        [[ 36,   9,   6],\n",
              "         [ 28,   8,   7],\n",
              "         [ 18,   3,   5],\n",
              "         ...,\n",
              "         [  6,  10,   9],\n",
              "         [ 12,   2,   4],\n",
              "         [ 19,   2,   3]],\n",
              "\n",
              "        [[ 38,  10,   7],\n",
              "         [ 31,   8,   8],\n",
              "         [ 22,   3,   6],\n",
              "         ...,\n",
              "         [ 12,   7,   4],\n",
              "         [  8,   4,   3],\n",
              "         [ 18,   2,   3]],\n",
              "\n",
              "        ...,\n",
              "\n",
              "        [[127,  20,   9],\n",
              "         [105,  11,  18],\n",
              "         [ 93,   9,  14],\n",
              "         ...,\n",
              "         [ 20,  12,   6],\n",
              "         [ 20,   9,   5],\n",
              "         [ 22,   9,   7]],\n",
              "\n",
              "        [[112,  17,   3],\n",
              "         [110,  14,  25],\n",
              "         [ 91,  12,  16],\n",
              "         ...,\n",
              "         [ 17,  11,   4],\n",
              "         [ 19,  10,   6],\n",
              "         [ 23,  10,   8]],\n",
              "\n",
              "        [[105,  20,   9],\n",
              "         [129,  12,  27],\n",
              "         [127,  21,  29],\n",
              "         ...,\n",
              "         [ 14,   8,   1],\n",
              "         [ 18,   9,   5],\n",
              "         [ 21,  10,   7]]],\n",
              "\n",
              "\n",
              "       [[[116, 125, 105],\n",
              "         [116, 126, 103],\n",
              "         [116, 127, 101],\n",
              "         ...,\n",
              "         [118, 133, 106],\n",
              "         [118, 132, 108],\n",
              "         [117, 129, 109]],\n",
              "\n",
              "        [[117, 126, 106],\n",
              "         [116, 126, 103],\n",
              "         [116, 127, 101],\n",
              "         ...,\n",
              "         [122, 133, 107],\n",
              "         [121, 131, 108],\n",
              "         [120, 129, 109]],\n",
              "\n",
              "        [[114, 127, 103],\n",
              "         [114, 126, 103],\n",
              "         [114, 127, 102],\n",
              "         ...,\n",
              "         [122, 130, 107],\n",
              "         [120, 128, 105],\n",
              "         [121, 129, 106]],\n",
              "\n",
              "        ...,\n",
              "\n",
              "        [[ 63,  77,  73],\n",
              "         [  7,  22,  25],\n",
              "         [  9,  24,  31],\n",
              "         ...,\n",
              "         [120, 146, 116],\n",
              "         [125, 150, 122],\n",
              "         [125, 144, 123]],\n",
              "\n",
              "        [[ 73,  84,  81],\n",
              "         [ 11,  23,  27],\n",
              "         [ 45,  59,  64],\n",
              "         ...,\n",
              "         [122, 147, 119],\n",
              "         [134, 159, 133],\n",
              "         [ 17,  35,  17]],\n",
              "\n",
              "        [[ 62,  71,  68],\n",
              "         [  5,  16,  20],\n",
              "         [ 19,  31,  37],\n",
              "         ...,\n",
              "         [126, 151, 125],\n",
              "         [144, 168, 144],\n",
              "         [ 24,  42,  27]]],\n",
              "\n",
              "\n",
              "       ...,\n",
              "\n",
              "\n",
              "       [[[  4,   6,   6],\n",
              "         [  1,   3,   3],\n",
              "         [  1,   5,   5],\n",
              "         ...,\n",
              "         [111, 165, 182],\n",
              "         [111, 165, 182],\n",
              "         [108, 165, 180]],\n",
              "\n",
              "        [[  7,   9,   9],\n",
              "         [  4,   6,   6],\n",
              "         [  6,   8,   8],\n",
              "         ...,\n",
              "         [111, 165, 182],\n",
              "         [113, 167, 184],\n",
              "         [109, 166, 181]],\n",
              "\n",
              "        [[ 11,  12,  12],\n",
              "         [  5,   7,   7],\n",
              "         [  5,   8,   8],\n",
              "         ...,\n",
              "         [111, 166, 181],\n",
              "         [111, 166, 181],\n",
              "         [110, 167, 182]],\n",
              "\n",
              "        ...,\n",
              "\n",
              "        [[133, 178, 182],\n",
              "         [142, 186, 190],\n",
              "         [119, 157, 161],\n",
              "         ...,\n",
              "         [ 20,  23,  24],\n",
              "         [ 18,  25,  25],\n",
              "         [ 19,  23,  24]],\n",
              "\n",
              "        [[140, 174, 179],\n",
              "         [ 63,  92,  97],\n",
              "         [  8,  28,  33],\n",
              "         ...,\n",
              "         [ 19,  22,  23],\n",
              "         [ 17,  23,  23],\n",
              "         [ 16,  20,  21]],\n",
              "\n",
              "        [[ 29,  49,  54],\n",
              "         [ 15,  28,  35],\n",
              "         [ 12,  21,  27],\n",
              "         ...,\n",
              "         [ 16,  18,  20],\n",
              "         [ 14,  20,  21],\n",
              "         [ 14,  18,  19]]],\n",
              "\n",
              "\n",
              "       [[[188, 209, 217],\n",
              "         [186, 206, 214],\n",
              "         [185, 206, 214],\n",
              "         ...,\n",
              "         [151, 189, 197],\n",
              "         [158, 193, 203],\n",
              "         [156, 191, 201]],\n",
              "\n",
              "        [[188, 209, 217],\n",
              "         [189, 209, 217],\n",
              "         [189, 210, 218],\n",
              "         ...,\n",
              "         [155, 193, 202],\n",
              "         [158, 193, 203],\n",
              "         [156, 191, 201]],\n",
              "\n",
              "        [[188, 209, 217],\n",
              "         [190, 211, 219],\n",
              "         [190, 211, 219],\n",
              "         ...,\n",
              "         [154, 192, 201],\n",
              "         [158, 193, 203],\n",
              "         [158, 193, 203]],\n",
              "\n",
              "        ...,\n",
              "\n",
              "        [[ 28,  40,  46],\n",
              "         [ 15,  26,  31],\n",
              "         [ 17,  26,  29],\n",
              "         ...,\n",
              "         [ 47,  54,  61],\n",
              "         [ 68,  76,  87],\n",
              "         [ 77,  91,  98]],\n",
              "\n",
              "        [[ 60,  72,  82],\n",
              "         [ 35,  46,  54],\n",
              "         [ 38,  48,  55],\n",
              "         ...,\n",
              "         [ 28,  43,  46],\n",
              "         [ 37,  54,  73],\n",
              "         [109, 130, 146]],\n",
              "\n",
              "        [[ 47,  60,  74],\n",
              "         [ 41,  53,  65],\n",
              "         [ 57,  67,  77],\n",
              "         ...,\n",
              "         [106, 128, 134],\n",
              "         [109, 133, 146],\n",
              "         [ 66,  92, 103]]],\n",
              "\n",
              "\n",
              "       [[[215, 173, 114],\n",
              "         [205, 162, 110],\n",
              "         [194, 150, 108],\n",
              "         ...,\n",
              "         [181, 142,  27],\n",
              "         [187, 148,  37],\n",
              "         [208, 169,  61]],\n",
              "\n",
              "        [[198, 153,  96],\n",
              "         [194, 148,  99],\n",
              "         [187, 141, 102],\n",
              "         ...,\n",
              "         [187, 149,  45],\n",
              "         [194, 155,  55],\n",
              "         [208, 170,  73]],\n",
              "\n",
              "        [[187, 139,  85],\n",
              "         [186, 138,  92],\n",
              "         [182, 135, 100],\n",
              "         ...,\n",
              "         [173, 137,  52],\n",
              "         [178, 141,  59],\n",
              "         [184, 148,  70]],\n",
              "\n",
              "        ...,\n",
              "\n",
              "        [[ 72,  62, 105],\n",
              "         [ 68,  59, 101],\n",
              "         [ 65,  57,  98],\n",
              "         ...,\n",
              "         [128, 131, 162],\n",
              "         [192, 195, 215],\n",
              "         [246, 249, 255]],\n",
              "\n",
              "        [[ 51,  42,  85],\n",
              "         [ 70,  62, 104],\n",
              "         [ 77,  69, 110],\n",
              "         ...,\n",
              "         [187, 189, 215],\n",
              "         [231, 234, 249],\n",
              "         [244, 247, 255]],\n",
              "\n",
              "        [[ 28,  19,  62],\n",
              "         [ 50,  41,  84],\n",
              "         [ 72,  62, 105],\n",
              "         ...,\n",
              "         [235, 237, 254],\n",
              "         [244, 246, 255],\n",
              "         [241, 243, 255]]]], dtype=uint8)"
            ]
          },
          "execution_count": 9,
          "metadata": {},
          "output_type": "execute_result"
        }
      ],
      "source": [
        "X"
      ]
    },
    {
      "cell_type": "code",
      "execution_count": null,
      "metadata": {
        "colab": {
          "base_uri": "https://localhost:8080/"
        },
        "id": "RMsC3wJSZa3y",
        "outputId": "81af8e3e-5dfa-4cf2-c73f-33ae66ec7714"
      },
      "outputs": [
        {
          "data": {
            "text/plain": [
              "array([2, 3, 3, ..., 3, 6, 6])"
            ]
          },
          "execution_count": 10,
          "metadata": {},
          "output_type": "execute_result"
        }
      ],
      "source": [
        "Y"
      ]
    },
    {
      "cell_type": "code",
      "execution_count": null,
      "metadata": {
        "colab": {
          "base_uri": "https://localhost:8080/"
        },
        "id": "M-MN8zRhZazR",
        "outputId": "e2a69b24-3a96-472f-8943-709adceb257d"
      },
      "outputs": [
        {
          "data": {
            "text/plain": [
              "(3346, 64, 64, 3)"
            ]
          },
          "execution_count": 11,
          "metadata": {},
          "output_type": "execute_result"
        }
      ],
      "source": [
        "X.shape"
      ]
    },
    {
      "cell_type": "code",
      "execution_count": null,
      "metadata": {
        "colab": {
          "base_uri": "https://localhost:8080/"
        },
        "id": "3ZR3UUciZaum",
        "outputId": "83ad3117-43f1-47a9-d143-d40323562924"
      },
      "outputs": [
        {
          "data": {
            "text/plain": [
              "(3346,)"
            ]
          },
          "execution_count": 12,
          "metadata": {},
          "output_type": "execute_result"
        }
      ],
      "source": [
        "Y.shape"
      ]
    },
    {
      "cell_type": "code",
      "execution_count": null,
      "metadata": {
        "id": "e0hMjr-5bSe0"
      },
      "outputs": [],
      "source": [
        "normalized_X=X/255.0"
      ]
    },
    {
      "cell_type": "code",
      "execution_count": null,
      "metadata": {
        "id": "5UK2SvDJZar6"
      },
      "outputs": [],
      "source": [
        "X_new=X.reshape(-1,64*64*3)"
      ]
    },
    {
      "cell_type": "code",
      "execution_count": null,
      "metadata": {
        "colab": {
          "base_uri": "https://localhost:8080/"
        },
        "id": "G24nWRYdZanQ",
        "outputId": "1defd8c2-01e0-4a60-cb90-e49980dc9ecc"
      },
      "outputs": [
        {
          "data": {
            "text/plain": [
              "3    1222\n",
              "6    1152\n",
              "4     349\n",
              "5     248\n",
              "1     174\n",
              "0     164\n",
              "2      37\n",
              "dtype: int64"
            ]
          },
          "execution_count": 15,
          "metadata": {},
          "output_type": "execute_result"
        }
      ],
      "source": [
        "import pandas as pd\n",
        "pd.Series(Y).value_counts()"
      ]
    },
    {
      "cell_type": "code",
      "execution_count": null,
      "metadata": {
        "id": "TFipyc54ZalX"
      },
      "outputs": [],
      "source": [
        "from imblearn.over_sampling import SMOTE\n",
        "sampler= SMOTE()\n",
        "X_smote,Y_smote=sampler.fit_resample(X_new,Y)"
      ]
    },
    {
      "cell_type": "code",
      "execution_count": null,
      "metadata": {
        "colab": {
          "base_uri": "https://localhost:8080/"
        },
        "id": "-t8AEhPTZaYm",
        "outputId": "44eac776-6cff-4653-c7e1-c259c16b55c6"
      },
      "outputs": [
        {
          "data": {
            "text/plain": [
              "2    1222\n",
              "3    1222\n",
              "6    1222\n",
              "4    1222\n",
              "5    1222\n",
              "1    1222\n",
              "0    1222\n",
              "dtype: int64"
            ]
          },
          "execution_count": 17,
          "metadata": {},
          "output_type": "execute_result"
        }
      ],
      "source": [
        "pd.Series(Y_smote).value_counts()"
      ]
    },
    {
      "cell_type": "code",
      "execution_count": null,
      "metadata": {
        "id": "rB1v9CpjZaW5"
      },
      "outputs": [],
      "source": [
        "X=X_smote.reshape(-1,64,64,3)"
      ]
    },
    {
      "cell_type": "code",
      "execution_count": null,
      "metadata": {
        "colab": {
          "base_uri": "https://localhost:8080/"
        },
        "id": "y8DHM5gnZaJf",
        "outputId": "49c0c841-07dd-4101-a3eb-df29534f8578"
      },
      "outputs": [
        {
          "name": "stdout",
          "output_type": "stream",
          "text": [
            "[[0. 0. 1. ... 0. 0. 0.]\n",
            " [0. 0. 0. ... 0. 0. 0.]\n",
            " [0. 0. 0. ... 0. 0. 0.]\n",
            " ...\n",
            " [0. 0. 0. ... 0. 0. 0.]\n",
            " [0. 0. 0. ... 0. 0. 1.]\n",
            " [0. 0. 0. ... 0. 0. 1.]]\n"
          ]
        }
      ],
      "source": [
        "import numpy as np\n",
        "from keras.utils import to_categorical\n",
        "onehot_encoded_y = to_categorical(Y)\n",
        "\n",
        "print(onehot_encoded_y)"
      ]
    },
    {
      "cell_type": "code",
      "execution_count": null,
      "metadata": {
        "colab": {
          "base_uri": "https://localhost:8080/"
        },
        "id": "Hxlp1dIzZZ3W",
        "outputId": "45962653-6c96-4c4f-85d2-cc50b25eb759"
      },
      "outputs": [
        {
          "name": "stdout",
          "output_type": "stream",
          "text": [
            "Training set size: 2342\n",
            "Validation set size: 502\n",
            "Testing set size: 502\n"
          ]
        }
      ],
      "source": [
        "import numpy as np\n",
        "from sklearn.model_selection import train_test_split\n",
        "\n",
        "# Split the data into training (70%), testing (15%), and validation (15%) sets\n",
        "X_train, X_temp, Y_train, Y_temp = train_test_split(normalized_X, onehot_encoded_y, test_size=0.3, random_state=42)\n",
        "X_val, X_test, Y_val, Y_test = train_test_split(X_temp, Y_temp, test_size=0.5, random_state=42)\n",
        "\n",
        "\n",
        "print(\"Training set size:\", len(X_train))\n",
        "print(\"Validation set size:\", len(X_val))\n",
        "print(\"Testing set size:\",len(X_test))"
      ]
    },
    {
      "cell_type": "code",
      "execution_count": null,
      "metadata": {
        "id": "5Ieu2aF3ZZa1"
      },
      "outputs": [],
      "source": [
        "import numpy as np\n",
        "from keras.preprocessing.image import ImageDataGenerator\n",
        "\n",
        "datagen = ImageDataGenerator(\n",
        "     rotation_range=30,\n",
        "    width_shift_range=0.2,\n",
        "    height_shift_range=0.2,\n",
        "    shear_range=0.2,\n",
        "    zoom_range=0.2,\n",
        "    horizontal_flip=True,\n",
        "    fill_mode='nearest'\n",
        ")\n",
        "\n",
        "datagen.fit(X_train)\n",
        "\n",
        "augmented_data_generator = datagen.flow(X_train, Y_train,batch_size=32)"
      ]
    },
    {
      "cell_type": "code",
      "execution_count": null,
      "metadata": {
        "colab": {
          "background_save": true,
          "base_uri": "https://localhost:8080/"
        },
        "id": "kENrdsKkPXiQ",
        "outputId": "aa1e18cc-82b0-42de-9049-18b682e4dfd6"
      },
      "outputs": [
        {
          "name": "stdout",
          "output_type": "stream",
          "text": [
            "Downloading data from https://storage.googleapis.com/tensorflow/keras-applications/vgg16/vgg16_weights_tf_dim_ordering_tf_kernels_notop.h5\n",
            "58889256/58889256 [==============================] - 1s 0us/step\n",
            "Epoch 1/25\n",
            "37/37 [==============================] - 789s 21s/step - loss: 1.6013 - accuracy: 0.3646 - val_loss: 1.5355 - val_accuracy: 0.4064\n",
            "Epoch 2/25\n",
            "37/37 [==============================] - 784s 21s/step - loss: 1.5386 - accuracy: 0.3578 - val_loss: 1.4735 - val_accuracy: 0.4243\n",
            "Epoch 3/25\n",
            "37/37 [==============================] - 776s 21s/step - loss: 1.4857 - accuracy: 0.4291 - val_loss: 1.4264 - val_accuracy: 0.4960\n",
            "Epoch 4/25\n",
            "37/37 [==============================] - 783s 21s/step - loss: 1.3986 - accuracy: 0.4927 - val_loss: 1.3666 - val_accuracy: 0.4602\n",
            "Epoch 5/25\n",
            "37/37 [==============================] - 749s 20s/step - loss: 1.3379 - accuracy: 0.5226 - val_loss: 1.2885 - val_accuracy: 0.5378\n",
            "Epoch 6/25\n",
            "37/37 [==============================] - 749s 20s/step - loss: 1.2604 - accuracy: 0.5705 - val_loss: 1.2234 - val_accuracy: 0.5857\n",
            "Epoch 7/25\n",
            "37/37 [==============================] - 776s 21s/step - loss: 1.2084 - accuracy: 0.5875 - val_loss: 1.1934 - val_accuracy: 0.5876\n",
            "Epoch 8/25\n",
            "37/37 [==============================] - 767s 21s/step - loss: 1.2016 - accuracy: 0.5909 - val_loss: 1.1675 - val_accuracy: 0.5936\n",
            "Epoch 9/25\n",
            "37/37 [==============================] - 778s 21s/step - loss: 1.1765 - accuracy: 0.6003 - val_loss: 1.4445 - val_accuracy: 0.5677\n",
            "Epoch 10/25\n",
            "37/37 [==============================] - 749s 20s/step - loss: 1.1670 - accuracy: 0.6072 - val_loss: 1.1426 - val_accuracy: 0.6135\n",
            "Epoch 11/25\n",
            "37/37 [==============================] - 786s 21s/step - loss: 1.1132 - accuracy: 0.6251 - val_loss: 1.1126 - val_accuracy: 0.6255\n",
            "Epoch 12/25\n",
            "37/37 [==============================] - 777s 21s/step - loss: 1.0693 - accuracy: 0.6345 - val_loss: 1.0901 - val_accuracy: 0.6335\n",
            "Epoch 13/25\n",
            "37/37 [==============================] - 763s 21s/step - loss: 1.0499 - accuracy: 0.6405 - val_loss: 1.0758 - val_accuracy: 0.6394\n",
            "Epoch 14/25\n",
            "37/37 [==============================] - 777s 21s/step - loss: 1.0429 - accuracy: 0.6422 - val_loss: 1.1105 - val_accuracy: 0.6255\n",
            "Epoch 15/25\n",
            "37/37 [==============================] - 762s 21s/step - loss: 1.0442 - accuracy: 0.6439 - val_loss: 1.0756 - val_accuracy: 0.6355\n",
            "Epoch 16/25\n",
            "37/37 [==============================] - 771s 21s/step - loss: 0.9663 - accuracy: 0.6721 - val_loss: 1.0580 - val_accuracy: 0.6534\n",
            "Epoch 17/25\n",
            "37/37 [==============================] - 777s 21s/step - loss: 0.9706 - accuracy: 0.6729 - val_loss: 1.2962 - val_accuracy: 0.5498\n",
            "Epoch 18/25\n",
            "37/37 [==============================] - 782s 21s/step - loss: 0.9181 - accuracy: 0.6866 - val_loss: 1.0960 - val_accuracy: 0.6594\n",
            "Epoch 19/25\n",
            "37/37 [==============================] - 785s 21s/step - loss: 0.8795 - accuracy: 0.6985 - val_loss: 1.1434 - val_accuracy: 0.6235\n",
            "Epoch 20/25\n",
            "37/37 [==============================] - 791s 21s/step - loss: 0.8408 - accuracy: 0.7169 - val_loss: 1.2597 - val_accuracy: 0.6295\n",
            "Epoch 21/25\n",
            "37/37 [==============================] - 793s 21s/step - loss: 0.8552 - accuracy: 0.7032 - val_loss: 1.1419 - val_accuracy: 0.6255\n",
            "Test Accuracy: 0.675298810005188\n"
          ]
        }
      ],
      "source": [
        "import numpy as np\n",
        "import tensorflow as tf\n",
        "from tensorflow.keras.applications import VGG16\n",
        "from tensorflow.keras.layers import Flatten, Dense, GlobalAveragePooling2D, Dropout\n",
        "from tensorflow.keras.models import Model\n",
        "from sklearn.model_selection import train_test_split\n",
        "from keras.preprocessing.image import ImageDataGenerator\n",
        "from keras.callbacks import EarlyStopping\n",
        "\n",
        "def resize_images(images):\n",
        "    return tf.image.resize(images, (96, 96))\n",
        "\n",
        "X_train_resized = resize_images(X_train)\n",
        "X_val_resized = resize_images(X_val)\n",
        "X_test_resized = resize_images(X_test)\n",
        "\n",
        "datagen = ImageDataGenerator(\n",
        "    rotation_range=20,\n",
        "    width_shift_range=0.2,\n",
        "    height_shift_range=0.2,\n",
        "    shear_range=0.2,\n",
        "    zoom_range=0.2,\n",
        "    horizontal_flip=True,\n",
        "    fill_mode='nearest'\n",
        ")\n",
        "\n",
        "datagen.fit(X_train_resized)\n",
        "\n",
        "# learning rate\n",
        "optimizer = tf.keras.optimizers.Adam(learning_rate=0.0001)\n",
        "\n",
        "base_model = VGG16(weights='imagenet', include_top=False, input_shape=(96, 96, 3))\n",
        "\n",
        "# custom top layers\n",
        "x = base_model.output\n",
        "x = GlobalAveragePooling2D()(x)\n",
        "x = Dense(256, activation='relu')(x)\n",
        "x = Dropout(0.5)(x)\n",
        "x = Dense(128, activation='relu')(x)\n",
        "predictions = Dense(7, activation='softmax')(x)\n",
        "model = Model(inputs=base_model.input, outputs=predictions)\n",
        "\n",
        "for layer in base_model.layers[:-10]:  # Fine-tune the last 10 layers\n",
        "    layer.trainable = False\n",
        "\n",
        "model.compile(loss='categorical_crossentropy', optimizer=optimizer, metrics=['accuracy'])\n",
        "\n",
        "early_stop = EarlyStopping(patience=5, restore_best_weights=True)\n",
        "\n",
        "# Train the model on the augmented data generator\n",
        "history = model.fit(datagen.flow(X_train_resized, Y_train, batch_size=64), epochs=25, validation_data=(X_val_resized, Y_val), callbacks=[early_stop])\n",
        "\n",
        "# Evaluate the model on test data\n",
        "test_loss, test_accuracy = model.evaluate(X_test_resized, Y_test, verbose=0)\n",
        "print(\"Test Accuracy:\", test_accuracy)\n",
        "\n",
        "# Save the model\n",
        "model.save('/content/drive/MyDrive/CV_project.h5')\n"
      ]
    },
    {
      "cell_type": "code",
      "execution_count": 24,
      "metadata": {
        "id": "8UtkHwn2c4Ie",
        "colab": {
          "base_uri": "https://localhost:8080/",
          "height": 507
        },
        "outputId": "6741accd-8064-47d1-9ed9-b00262a60562"
      },
      "outputs": [
        {
          "output_type": "stream",
          "name": "stdout",
          "text": [
            "16/16 [==============================] - 80s 5s/step\n"
          ]
        },
        {
          "output_type": "display_data",
          "data": {
            "text/plain": [
              "<Figure size 800x600 with 0 Axes>"
            ]
          },
          "metadata": {}
        },
        {
          "output_type": "display_data",
          "data": {
            "text/plain": [
              "<Figure size 640x480 with 2 Axes>"
            ],
            "image/png": "[encoded data removed]"
          },
          "metadata": {}
        }
      ],
      "source": [
        "import numpy as np\n",
        "import matplotlib.pyplot as plt\n",
        "from sklearn.metrics import confusion_matrix, ConfusionMatrixDisplay\n",
        "\n",
        "from tensorflow.keras.models import load_model\n",
        "\n",
        "# Load the model\n",
        "model = load_model('/content/drive/MyDrive/CV_project.h5')\n",
        "\n",
        "y_pred = model.predict(X_test_resized)\n",
        "\n",
        "y_pred_labels = np.argmax(y_pred, axis=1)\n",
        "Y_test_labels = np.argmax(Y_test, axis=1)\n",
        "\n",
        "# Generate the confusion matrix\n",
        "cm = confusion_matrix(Y_test_labels, y_pred_labels)\n",
        "\n",
        "class_labels = [\"angry\", \"disgust\", \"fear\", \"happy\", \"sad\", \"surprise\", \"neutral\"]\n",
        "\n",
        "disp = ConfusionMatrixDisplay(confusion_matrix=cm, display_labels=class_labels)\n",
        "\n",
        "plt.figure(figsize=(8, 6))\n",
        "disp.plot(cmap='Blues', values_format='d')\n",
        "plt.title(\"Confusion Matrix\")\n",
        "plt.xlabel(\"Predicted Labels\")\n",
        "plt.ylabel(\"True Labels\")\n",
        "plt.show()\n"
      ]
    }
  ],
  "metadata": {
    "accelerator": "GPU",
    "colab": {
      "provenance": []
    },
    "kernelspec": {
      "display_name": "Python 3",
      "name": "python3"
    },
    "language_info": {
      "name": "python"
    }
  },
  "nbformat": 4,
  "nbformat_minor": 0
}